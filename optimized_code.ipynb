{
 "cells": [
  {
   "cell_type": "code",
   "execution_count": 2,
   "id": "c2636433-7e49-4372-94f1-d777f38f4857",
   "metadata": {},
   "outputs": [
    {
     "name": "stdout",
     "output_type": "stream",
     "text": [
      "<class 'pandas.core.frame.DataFrame'>\n",
      "RangeIndex: 6064 entries, 0 to 6063\n",
      "Data columns (total 2 columns):\n",
      " #   Column   Non-Null Count  Dtype \n",
      "---  ------   --------------  ----- \n",
      " 0   label    6064 non-null   object\n",
      " 1   message  6059 non-null   object\n",
      "dtypes: object(2)\n",
      "memory usage: 94.9+ KB\n"
     ]
    },
    {
     "data": {
      "text/html": [
       "<div>\n",
       "<style scoped>\n",
       "    .dataframe tbody tr th:only-of-type {\n",
       "        vertical-align: middle;\n",
       "    }\n",
       "\n",
       "    .dataframe tbody tr th {\n",
       "        vertical-align: top;\n",
       "    }\n",
       "\n",
       "    .dataframe thead th {\n",
       "        text-align: right;\n",
       "    }\n",
       "</style>\n",
       "<table border=\"1\" class=\"dataframe\">\n",
       "  <thead>\n",
       "    <tr style=\"text-align: right;\">\n",
       "      <th></th>\n",
       "      <th>label</th>\n",
       "      <th>message</th>\n",
       "    </tr>\n",
       "  </thead>\n",
       "  <tbody>\n",
       "    <tr>\n",
       "      <th>0</th>\n",
       "      <td>0</td>\n",
       "      <td>go until jurong point crazy available only in ...</td>\n",
       "    </tr>\n",
       "    <tr>\n",
       "      <th>1</th>\n",
       "      <td>0</td>\n",
       "      <td>ok lar joking wif u oni</td>\n",
       "    </tr>\n",
       "    <tr>\n",
       "      <th>2</th>\n",
       "      <td>1</td>\n",
       "      <td>free entry in  a wkly comp to win fa cup final...</td>\n",
       "    </tr>\n",
       "    <tr>\n",
       "      <th>3</th>\n",
       "      <td>0</td>\n",
       "      <td>u dun say so early hor u c already then say</td>\n",
       "    </tr>\n",
       "    <tr>\n",
       "      <th>4</th>\n",
       "      <td>0</td>\n",
       "      <td>nah i dont think he goes to usf he lives aroun...</td>\n",
       "    </tr>\n",
       "  </tbody>\n",
       "</table>\n",
       "</div>"
      ],
      "text/plain": [
       "  label                                            message\n",
       "0     0  go until jurong point crazy available only in ...\n",
       "1     0                            ok lar joking wif u oni\n",
       "2     1  free entry in  a wkly comp to win fa cup final...\n",
       "3     0        u dun say so early hor u c already then say\n",
       "4     0  nah i dont think he goes to usf he lives aroun..."
      ]
     },
     "execution_count": 2,
     "metadata": {},
     "output_type": "execute_result"
    }
   ],
   "source": [
    "import pandas as pd\n",
    "\n",
    "# Load the dataset\n",
    "file_path = \"updated_sms.csv\"\n",
    "df = pd.read_csv(file_path, encoding=\"utf-8\")  # Using UTF-8 encoding\n",
    "\n",
    "# Display basic info\n",
    "df.info()\n",
    "\n",
    "# Show first few rows\n",
    "df.head()\n"
   ]
  },
  {
   "cell_type": "code",
   "execution_count": 3,
   "id": "b15d8675-6a80-4540-9765-9a08dcd47e62",
   "metadata": {},
   "outputs": [
    {
     "name": "stderr",
     "output_type": "stream",
     "text": [
      "[nltk_data] Downloading package stopwords to\n",
      "[nltk_data]     /Users/krishnam/nltk_data...\n",
      "[nltk_data]   Package stopwords is already up-to-date!\n"
     ]
    },
    {
     "data": {
      "text/html": [
       "<div>\n",
       "<style scoped>\n",
       "    .dataframe tbody tr th:only-of-type {\n",
       "        vertical-align: middle;\n",
       "    }\n",
       "\n",
       "    .dataframe tbody tr th {\n",
       "        vertical-align: top;\n",
       "    }\n",
       "\n",
       "    .dataframe thead th {\n",
       "        text-align: right;\n",
       "    }\n",
       "</style>\n",
       "<table border=\"1\" class=\"dataframe\">\n",
       "  <thead>\n",
       "    <tr style=\"text-align: right;\">\n",
       "      <th></th>\n",
       "      <th>label</th>\n",
       "      <th>message</th>\n",
       "    </tr>\n",
       "  </thead>\n",
       "  <tbody>\n",
       "    <tr>\n",
       "      <th>0</th>\n",
       "      <td>0</td>\n",
       "      <td>jurong point crazi avail bugi great world buff...</td>\n",
       "    </tr>\n",
       "    <tr>\n",
       "      <th>1</th>\n",
       "      <td>0</td>\n",
       "      <td>lar joke wif oni</td>\n",
       "    </tr>\n",
       "    <tr>\n",
       "      <th>2</th>\n",
       "      <td>1</td>\n",
       "      <td>free entri wkli comp win cup final tkt may tex...</td>\n",
       "    </tr>\n",
       "    <tr>\n",
       "      <th>3</th>\n",
       "      <td>0</td>\n",
       "      <td>dun say earli hor alreadi say</td>\n",
       "    </tr>\n",
       "    <tr>\n",
       "      <th>4</th>\n",
       "      <td>0</td>\n",
       "      <td>nah dont think goe usf live around though</td>\n",
       "    </tr>\n",
       "  </tbody>\n",
       "</table>\n",
       "</div>"
      ],
      "text/plain": [
       "  label                                            message\n",
       "0     0  jurong point crazi avail bugi great world buff...\n",
       "1     0                                   lar joke wif oni\n",
       "2     1  free entri wkli comp win cup final tkt may tex...\n",
       "3     0                      dun say earli hor alreadi say\n",
       "4     0          nah dont think goe usf live around though"
      ]
     },
     "execution_count": 3,
     "metadata": {},
     "output_type": "execute_result"
    }
   ],
   "source": [
    "import string\n",
    "import nltk\n",
    "from nltk.corpus import stopwords\n",
    "from nltk.stem import PorterStemmer\n",
    "\n",
    "# Download stopwords if not available\n",
    "nltk.download(\"stopwords\")\n",
    "\n",
    "# Initialize stemmer\n",
    "ps = PorterStemmer()\n",
    "\n",
    "# Define preprocessing function\n",
    "def preprocess_text(text):\n",
    "    if not isinstance(text, str):  # Ensure text is valid\n",
    "        return \"\"\n",
    "    \n",
    "    text = text.lower()  # Convert to lowercase\n",
    "    text = ''.join([char for char in text if char not in string.punctuation])  # Remove punctuation\n",
    "    words = text.split()\n",
    "    words = [word for word in words if word not in stopwords.words('english')]  # Remove stopwords\n",
    "    words = [ps.stem(word) for word in words if len(word) > 2]  # Apply stemming & remove short words\n",
    "    \n",
    "    return ' '.join(words) if words else \"empty\"  # Ensure non-empty output\n",
    "\n",
    "# Apply preprocessing\n",
    "df[\"message\"] = df[\"message\"].apply(preprocess_text)\n",
    "\n",
    "# Show results\n",
    "df.head()\n"
   ]
  },
  {
   "cell_type": "code",
   "execution_count": 4,
   "id": "dae1e8eb-ef4f-4b71-8ea0-9d7e235155fe",
   "metadata": {},
   "outputs": [
    {
     "data": {
      "text/html": [
       "<div>\n",
       "<style scoped>\n",
       "    .dataframe tbody tr th:only-of-type {\n",
       "        vertical-align: middle;\n",
       "    }\n",
       "\n",
       "    .dataframe tbody tr th {\n",
       "        vertical-align: top;\n",
       "    }\n",
       "\n",
       "    .dataframe thead th {\n",
       "        text-align: right;\n",
       "    }\n",
       "</style>\n",
       "<table border=\"1\" class=\"dataframe\">\n",
       "  <thead>\n",
       "    <tr style=\"text-align: right;\">\n",
       "      <th></th>\n",
       "      <th>label</th>\n",
       "      <th>message</th>\n",
       "    </tr>\n",
       "  </thead>\n",
       "  <tbody>\n",
       "    <tr>\n",
       "      <th>0</th>\n",
       "      <td>0</td>\n",
       "      <td>jurong point crazi avail bugi great world buff...</td>\n",
       "    </tr>\n",
       "    <tr>\n",
       "      <th>1</th>\n",
       "      <td>0</td>\n",
       "      <td>lar joke wif oni</td>\n",
       "    </tr>\n",
       "    <tr>\n",
       "      <th>2</th>\n",
       "      <td>1</td>\n",
       "      <td>free entri wkli comp win cup final tkt may tex...</td>\n",
       "    </tr>\n",
       "    <tr>\n",
       "      <th>3</th>\n",
       "      <td>0</td>\n",
       "      <td>dun say earli hor alreadi say</td>\n",
       "    </tr>\n",
       "    <tr>\n",
       "      <th>4</th>\n",
       "      <td>0</td>\n",
       "      <td>nah dont think goe usf live around though</td>\n",
       "    </tr>\n",
       "  </tbody>\n",
       "</table>\n",
       "</div>"
      ],
      "text/plain": [
       "  label                                            message\n",
       "0     0  jurong point crazi avail bugi great world buff...\n",
       "1     0                                   lar joke wif oni\n",
       "2     1  free entri wkli comp win cup final tkt may tex...\n",
       "3     0                      dun say earli hor alreadi say\n",
       "4     0          nah dont think goe usf live around though"
      ]
     },
     "execution_count": 4,
     "metadata": {},
     "output_type": "execute_result"
    }
   ],
   "source": [
    "# Define a custom stopwords list (common English stopwords)\n",
    "custom_stopwords = set([\n",
    "    \"i\", \"me\", \"my\", \"myself\", \"we\", \"our\", \"ours\", \"ourselves\", \"you\", \"your\", \"yours\", \"yourself\", \n",
    "    \"yourselves\", \"he\", \"him\", \"his\", \"himself\", \"she\", \"her\", \"hers\", \"herself\", \"it\", \"its\", \"itself\", \n",
    "    \"they\", \"them\", \"their\", \"theirs\", \"themselves\", \"what\", \"which\", \"who\", \"whom\", \"this\", \"that\", \n",
    "    \"these\", \"those\", \"am\", \"is\", \"are\", \"was\", \"were\", \"be\", \"been\", \"being\", \"have\", \"has\", \"had\", \n",
    "    \"having\", \"do\", \"does\", \"did\", \"doing\", \"a\", \"an\", \"the\", \"and\", \"but\", \"if\", \"or\", \"because\", \n",
    "    \"as\", \"until\", \"while\", \"of\", \"at\", \"by\", \"for\", \"with\", \"about\", \"against\", \"between\", \"into\", \n",
    "    \"through\", \"during\", \"before\", \"after\", \"above\", \"below\", \"to\", \"from\", \"up\", \"down\", \"in\", \"out\", \n",
    "    \"on\", \"off\", \"over\", \"under\", \"again\", \"further\", \"then\", \"once\", \"here\", \"there\", \"when\", \"where\", \n",
    "    \"why\", \"how\", \"all\", \"any\", \"both\", \"each\", \"few\", \"more\", \"most\", \"other\", \"some\", \"such\", \"no\", \n",
    "    \"nor\", \"not\", \"only\", \"own\", \"same\", \"so\", \"than\", \"too\", \"very\", \"s\", \"t\", \"can\", \"will\", \"just\", \n",
    "    \"don\", \"should\", \"now\"\n",
    "])\n",
    "\n",
    "# Update preprocessing function to use custom stopwords\n",
    "def preprocess_text(text):\n",
    "    if not isinstance(text, str):\n",
    "        return \"\"\n",
    "    \n",
    "    text = text.lower()  # Convert to lowercase\n",
    "    text = ''.join([char for char in text if char not in string.punctuation])  # Remove punctuation\n",
    "    words = text.split()\n",
    "    words = [word for word in words if word not in custom_stopwords]  # Remove stopwords\n",
    "    words = [ps.stem(word) for word in words if len(word) > 2]  # Apply stemming & remove short words\n",
    "    \n",
    "    return ' '.join(words) if words else \"empty\"\n",
    "\n",
    "# Apply preprocessing again\n",
    "df[\"message\"] = df[\"message\"].apply(preprocess_text)\n",
    "\n",
    "# Show processed text\n",
    "df.head()\n"
   ]
  },
  {
   "cell_type": "code",
   "execution_count": 5,
   "id": "470dbad2-5e2d-466e-b283-865ab34ed5ea",
   "metadata": {},
   "outputs": [
    {
     "data": {
      "text/plain": [
       "((6064, 6961), (6064,))"
      ]
     },
     "execution_count": 5,
     "metadata": {},
     "output_type": "execute_result"
    }
   ],
   "source": [
    "from sklearn.feature_extraction.text import TfidfVectorizer\n",
    "\n",
    "# Initialize TF-IDF Vectorizer\n",
    "vectorizer = TfidfVectorizer()\n",
    "\n",
    "# Transform messages into numerical format\n",
    "X = vectorizer.fit_transform(df[\"message\"])\n",
    "\n",
    "# Extract labels\n",
    "y = df[\"label\"]\n",
    "\n",
    "# Check shape of transformed data\n",
    "X.shape, y.shape\n"
   ]
  },
  {
   "cell_type": "code",
   "execution_count": 6,
   "id": "879d8986-43dd-431c-9ded-0ca2b8538e46",
   "metadata": {},
   "outputs": [
    {
     "data": {
      "text/plain": [
       "(label\n",
       " 0      0.795712\n",
       " 1      0.203875\n",
       " ham    0.000412\n",
       " Name: proportion, dtype: float64,\n",
       " label\n",
       " 0    0.795548\n",
       " 1    0.204452\n",
       " Name: proportion, dtype: float64)"
      ]
     },
     "execution_count": 6,
     "metadata": {},
     "output_type": "execute_result"
    }
   ],
   "source": [
    "from sklearn.model_selection import train_test_split\n",
    "\n",
    "# Split data into training and testing sets (80% train, 20% test)\n",
    "X_train, X_test, y_train, y_test = train_test_split(X, y, test_size=0.2, random_state=42, stratify=y)\n",
    "\n",
    "# Check distribution of labels in train & test sets\n",
    "y_train.value_counts(normalize=True), y_test.value_counts(normalize=True)\n"
   ]
  },
  {
   "cell_type": "code",
   "execution_count": 8,
   "id": "b6030cfa-b9ec-4cce-a68e-610d893ab646",
   "metadata": {},
   "outputs": [
    {
     "data": {
      "text/plain": [
       "(0.9678483099752679,\n",
       " 0.9771689497716894,\n",
       " 0.8629032258064516,\n",
       " 0.9164882226980728,\n",
       " array([[960,   5],\n",
       "        [ 34, 214]]))"
      ]
     },
     "execution_count": 8,
     "metadata": {},
     "output_type": "execute_result"
    }
   ],
   "source": [
    "# Ensure y_test and y_pred are integers\n",
    "y_test = y_test.astype(int)\n",
    "y_pred = y_pred.astype(int)\n",
    "\n",
    "# Recalculate performance metrics\n",
    "accuracy = accuracy_score(y_test, y_pred)\n",
    "precision = precision_score(y_test, y_pred, pos_label=1)\n",
    "recall = recall_score(y_test, y_pred, pos_label=1)\n",
    "f1 = f1_score(y_test, y_pred, pos_label=1)\n",
    "conf_matrix = confusion_matrix(y_test, y_pred)\n",
    "\n",
    "# Display results\n",
    "accuracy, precision, recall, f1, conf_matrix\n"
   ]
  },
  {
   "cell_type": "code",
   "execution_count": 12,
   "id": "ef5a58b0-b009-4a6d-9723-e28bd60ce15e",
   "metadata": {},
   "outputs": [
    {
     "data": {
      "text/html": [
       "<div>\n",
       "<style scoped>\n",
       "    .dataframe tbody tr th:only-of-type {\n",
       "        vertical-align: middle;\n",
       "    }\n",
       "\n",
       "    .dataframe tbody tr th {\n",
       "        vertical-align: top;\n",
       "    }\n",
       "\n",
       "    .dataframe thead th {\n",
       "        text-align: right;\n",
       "    }\n",
       "</style>\n",
       "<table border=\"1\" class=\"dataframe\">\n",
       "  <thead>\n",
       "    <tr style=\"text-align: right;\">\n",
       "      <th></th>\n",
       "      <th>Accuracy</th>\n",
       "      <th>Precision</th>\n",
       "      <th>Recall</th>\n",
       "      <th>F1</th>\n",
       "    </tr>\n",
       "  </thead>\n",
       "  <tbody>\n",
       "    <tr>\n",
       "      <th>0.1</th>\n",
       "      <td>0.972795</td>\n",
       "      <td>0.928287</td>\n",
       "      <td>0.939516</td>\n",
       "      <td>0.933868</td>\n",
       "    </tr>\n",
       "    <tr>\n",
       "      <th>0.5</th>\n",
       "      <td>0.974444</td>\n",
       "      <td>0.965665</td>\n",
       "      <td>0.907258</td>\n",
       "      <td>0.935551</td>\n",
       "    </tr>\n",
       "    <tr>\n",
       "      <th>1.0</th>\n",
       "      <td>0.967848</td>\n",
       "      <td>0.977169</td>\n",
       "      <td>0.862903</td>\n",
       "      <td>0.916488</td>\n",
       "    </tr>\n",
       "    <tr>\n",
       "      <th>2.0</th>\n",
       "      <td>0.945589</td>\n",
       "      <td>0.989247</td>\n",
       "      <td>0.741935</td>\n",
       "      <td>0.847926</td>\n",
       "    </tr>\n",
       "    <tr>\n",
       "      <th>5.0</th>\n",
       "      <td>0.892828</td>\n",
       "      <td>1.000000</td>\n",
       "      <td>0.475806</td>\n",
       "      <td>0.644809</td>\n",
       "    </tr>\n",
       "  </tbody>\n",
       "</table>\n",
       "</div>"
      ],
      "text/plain": [
       "     Accuracy  Precision    Recall        F1\n",
       "0.1  0.972795   0.928287  0.939516  0.933868\n",
       "0.5  0.974444   0.965665  0.907258  0.935551\n",
       "1.0  0.967848   0.977169  0.862903  0.916488\n",
       "2.0  0.945589   0.989247  0.741935  0.847926\n",
       "5.0  0.892828   1.000000  0.475806  0.644809"
      ]
     },
     "execution_count": 12,
     "metadata": {},
     "output_type": "execute_result"
    }
   ],
   "source": [
    "# Ensure labels are integers\n",
    "y_test = y_test.astype(int)\n",
    "\n",
    "# Loop through each alpha value and retrain\n",
    "nb_results = {}\n",
    "for alpha in alpha_values:\n",
    "    nb_model = MultinomialNB(alpha=alpha)\n",
    "    nb_model.fit(X_train, y_train)\n",
    "\n",
    "    # Predict and convert to integers\n",
    "    y_pred = nb_model.predict(X_test).astype(int)\n",
    "\n",
    "    # Compute evaluation metrics\n",
    "    accuracy = accuracy_score(y_test, y_pred)\n",
    "    precision = precision_score(y_test, y_pred, pos_label=1)\n",
    "    recall = recall_score(y_test, y_pred, pos_label=1)\n",
    "    f1 = f1_score(y_test, y_pred, pos_label=1)\n",
    "\n",
    "    # Store results\n",
    "    nb_results[alpha] = (accuracy, precision, recall, f1)\n",
    "\n",
    "# Convert results to DataFrame\n",
    "nb_results_df = pd.DataFrame(nb_results, index=[\"Accuracy\", \"Precision\", \"Recall\", \"F1\"]).T\n",
    "nb_results_df\n"
   ]
  },
  {
   "cell_type": "code",
   "execution_count": 19,
   "id": "d584e3fe-3a95-4c8d-a50e-e08a0f416909",
   "metadata": {},
   "outputs": [
    {
     "name": "stderr",
     "output_type": "stream",
     "text": [
      "/opt/homebrew/Caskroom/miniforge/base/envs/ml_env/lib/python3.10/site-packages/sklearn/metrics/_classification.py:1565: UndefinedMetricWarning: Recall is ill-defined and being set to 0.0 in labels with no true samples. Use `zero_division` parameter to control this behavior.\n",
      "  _warn_prf(average, modifier, f\"{metric.capitalize()} is\", len(result))\n"
     ]
    },
    {
     "data": {
      "text/plain": [
       "(0.9604286892003298,\n",
       " 0.9610461806864413,\n",
       " 0.9604286892003298,\n",
       " 0.9599885737346161)"
      ]
     },
     "execution_count": 19,
     "metadata": {},
     "output_type": "execute_result"
    }
   ],
   "source": [
    "# Reinitialize and fit LabelEncoder on the entire dataset (y)\n",
    "encoder = LabelEncoder()\n",
    "y_encoded = encoder.fit_transform(y)  # Fit on full labels\n",
    "\n",
    "# Split the dataset again to keep consistency\n",
    "y_train_encoded, y_test_encoded = train_test_split(y_encoded, test_size=0.2, random_state=42, stratify=y_encoded)\n",
    "\n",
    "# Train Random Forest again with the corrected labels\n",
    "rf_model.fit(X_train, y_train_encoded)\n",
    "y_pred_rf = rf_model.predict(X_test)\n",
    "\n",
    "# Recalculate performance metrics using \"weighted\" average to handle class imbalance better\n",
    "accuracy_rf = accuracy_score(y_test_encoded, y_pred_rf)\n",
    "precision_rf = precision_score(y_test_encoded, y_pred_rf, average=\"weighted\")\n",
    "recall_rf = recall_score(y_test_encoded, y_pred_rf, average=\"weighted\")\n",
    "f1_rf = f1_score(y_test_encoded, y_pred_rf, average=\"weighted\")\n",
    "\n",
    "# Display results\n",
    "accuracy_rf, precision_rf, recall_rf, f1_rf\n",
    "\n",
    "\n"
   ]
  },
  {
   "cell_type": "code",
   "execution_count": 21,
   "id": "7af18bc0-0a59-446f-84e9-49339b4fd43e",
   "metadata": {},
   "outputs": [
    {
     "name": "stdout",
     "output_type": "stream",
     "text": [
      "Best Hyperparameters: {'max_depth': None, 'min_samples_split': 5, 'n_estimators': 200}\n"
     ]
    }
   ],
   "source": [
    "from sklearn.model_selection import GridSearchCV, StratifiedKFold\n",
    "\n",
    "# Define a stratified K-Fold to balance class distribution\n",
    "cv = StratifiedKFold(n_splits=2, shuffle=True, random_state=42)  # Reduce splits to 2\n",
    "\n",
    "# Define parameter grid for tuning\n",
    "param_grid = {\n",
    "    'n_estimators': [100, 200, 300],\n",
    "    'max_depth': [10, 20, None],\n",
    "    'min_samples_split': [2, 5, 10]\n",
    "}\n",
    "\n",
    "# Perform Grid Search with balanced CV\n",
    "grid_search = GridSearchCV(RandomForestClassifier(), param_grid, cv=cv, scoring='f1_weighted', n_jobs=-1)\n",
    "grid_search.fit(X_train, y_train_encoded)\n",
    "\n",
    "# Print best parameters\n",
    "print(\"Best Hyperparameters:\", grid_search.best_params_)\n"
   ]
  },
  {
   "cell_type": "code",
   "execution_count": 22,
   "id": "9c13ca59-be88-493c-a3e1-af6914250d47",
   "metadata": {},
   "outputs": [
    {
     "name": "stdout",
     "output_type": "stream",
     "text": [
      "Final Optimized Random Forest Performance:\n",
      "✅ Accuracy: 0.9744435284418796\n",
      "✅ Precision: 0.9755211161901838\n",
      "✅ Recall: 0.9744435284418796\n",
      "✅ F1 Score: 0.9743774343100848\n"
     ]
    },
    {
     "name": "stderr",
     "output_type": "stream",
     "text": [
      "/opt/homebrew/Caskroom/miniforge/base/envs/ml_env/lib/python3.10/site-packages/sklearn/metrics/_classification.py:1565: UndefinedMetricWarning: Recall is ill-defined and being set to 0.0 in labels with no true samples. Use `zero_division` parameter to control this behavior.\n",
      "  _warn_prf(average, modifier, f\"{metric.capitalize()} is\", len(result))\n"
     ]
    }
   ],
   "source": [
    "# Train optimized Random Forest model\n",
    "optimized_rf = RandomForestClassifier(\n",
    "    max_depth=None,\n",
    "    min_samples_split=5,\n",
    "    n_estimators=200,\n",
    "    random_state=42,\n",
    "    class_weight=\"balanced\"\n",
    ")\n",
    "\n",
    "optimized_rf.fit(X_train, y_train_encoded)\n",
    "\n",
    "# Make predictions\n",
    "y_pred_optimized = optimized_rf.predict(X_test)\n",
    "\n",
    "# Evaluate performance\n",
    "accuracy_opt = accuracy_score(y_test_encoded, y_pred_optimized)\n",
    "precision_opt = precision_score(y_test_encoded, y_pred_optimized, average=\"weighted\")\n",
    "recall_opt = recall_score(y_test_encoded, y_pred_optimized, average=\"weighted\")\n",
    "f1_opt = f1_score(y_test_encoded, y_pred_optimized, average=\"weighted\")\n",
    "\n",
    "# Display final results\n",
    "print(\"Final Optimized Random Forest Performance:\")\n",
    "print(\"✅ Accuracy:\", accuracy_opt)\n",
    "print(\"✅ Precision:\", precision_opt)\n",
    "print(\"✅ Recall:\", recall_opt)\n",
    "print(\"✅ F1 Score:\", f1_opt)\n"
   ]
  },
  {
   "cell_type": "code",
   "execution_count": 23,
   "id": "800deda6-1ac1-44aa-89d5-fd395b948a7b",
   "metadata": {},
   "outputs": [
    {
     "name": "stdout",
     "output_type": "stream",
     "text": [
      "Model saved as optimized_sms_spam_model.pkl\n"
     ]
    }
   ],
   "source": [
    "import joblib\n",
    "joblib.dump(optimized_rf, \"optimized_sms_spam_model.pkl\")\n",
    "print(\"Model saved as optimized_sms_spam_model.pkl\")\n"
   ]
  },
  {
   "cell_type": "code",
   "execution_count": 26,
   "id": "3255bc0a-f00a-4320-b436-0ba9f12db9d6",
   "metadata": {},
   "outputs": [
    {
     "name": "stdout",
     "output_type": "stream",
     "text": [
      "Misclassified Messages:\n",
      " 5615          win allexpensespaid trip vega enter contest\n",
      "731     email alertfrom jeri stewart kbsubject lowcost...\n",
      "751     realiz year well thousand old ladi run around ...\n",
      "2863                          adult content video shortli\n",
      "3530    xma new year eve ticket sale club day till thu...\n",
      "5752                  packag await clearanc pay fee relea\n",
      "5811                           packag ship track deliveri\n",
      "2699                                            lost help\n",
      "3981                                            ringtonek\n",
      "1154    girl mani local virgin readi fil everi sexual ...\n",
      "3360                        sorri miss call let talk time\n",
      "4598                                  full heat appli oil\n",
      "2823    romcapspam everyon around respond well presenc...\n",
      "5468    httptm widelivecomindex wmlidadafirsttrueåác r...\n",
      "1458    clair havin borin time alon wanna cum nite cha...\n",
      "5737               packag wait post offic pay fee collect\n",
      "4425                       updat face book statu frequent\n",
      "2804                       freemsgfav xma tonesrepli real\n",
      "3425    new club dont fink met yet plea leav msg day w...\n",
      "1612                                                empty\n",
      "3302                      rct thnq adrian text rgd vatian\n",
      "2247    babe goten bout scammer get smartthough regula...\n",
      "264     hey realli horni want chat see nake text hot t...\n",
      "5656     upgrad internet plan today unlimit highsp access\n",
      "4514                           money wine number wot next\n",
      "5671                           urgent messag depart check\n",
      "822                                         road cant txt\n",
      "1940    peopl dog area call join like mind guy arrang ...\n",
      "3460    heard call night knicker make beg like last ti...\n",
      "5592    tri deliv packag unsuccess reschedul faketrack...\n",
      "3064    babe jordan home abroad lone text back wanna c...\n",
      "Name: message, dtype: object\n"
     ]
    }
   ],
   "source": [
    "# Find misclassified indices\n",
    "misclassified_idx = (y_test_encoded != y_pred_optimized)\n",
    "\n",
    "# Extract test set indices\n",
    "test_indices = y_test.index  # Get the correct test set indices\n",
    "\n",
    "# Extract misclassified messages\n",
    "misclassified_messages = df.loc[test_indices[misclassified_idx], \"message\"]\n",
    "\n",
    "# Display misclassified messages\n",
    "print(\"Misclassified Messages:\\n\", misclassified_messages)\n"
   ]
  },
  {
   "cell_type": "code",
   "execution_count": 27,
   "id": "c4233603-27ad-41c9-93d0-75cb4de91aef",
   "metadata": {},
   "outputs": [
    {
     "name": "stdout",
     "output_type": "stream",
     "text": [
      "✅ Model and vectorizer saved successfully!\n"
     ]
    }
   ],
   "source": [
    "import joblib\n",
    "\n",
    "# Save the trained model\n",
    "joblib.dump(optimized_rf, \"optimized_spam_classifier.pkl\")\n",
    "\n",
    "# Save the TF-IDF vectorizer too\n",
    "joblib.dump(vectorizer, \"optimized tfidf_vectorizer.pkl\")\n",
    "\n",
    "print(\"✅ Model and vectorizer saved successfully!\")\n"
   ]
  },
  {
   "cell_type": "code",
   "execution_count": null,
   "id": "b6b41f34-85fc-4720-abc1-33e30bd065fe",
   "metadata": {},
   "outputs": [],
   "source": []
  }
 ],
 "metadata": {
  "kernelspec": {
   "display_name": "Python 3 (ipykernel)",
   "language": "python",
   "name": "python3"
  },
  "language_info": {
   "codemirror_mode": {
    "name": "ipython",
    "version": 3
   },
   "file_extension": ".py",
   "mimetype": "text/x-python",
   "name": "python",
   "nbconvert_exporter": "python",
   "pygments_lexer": "ipython3",
   "version": "3.10.16"
  }
 },
 "nbformat": 4,
 "nbformat_minor": 5
}
